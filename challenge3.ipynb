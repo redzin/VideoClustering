{
 "cells": [
  {
   "cell_type": "code",
   "execution_count": null,
   "metadata": {
    "collapsed": true
   },
   "outputs": [],
   "source": []
  },
  {
   "cell_type": "code",
   "execution_count": 83,
   "metadata": {
    "collapsed": false
   },
   "outputs": [
    {
     "name": "stdout",
     "output_type": "stream",
     "text": [
      "['FFBF80E0F701009F' 'FF0080C0FFC381FF' '000080C0FFE7C1FF'\n",
      " 'FFBF80FCF5810081' 'FF0080FCFF8701FF' '000080FDFFEF81FF'\n",
      " 'FF00FFC1C3830001' '0000FFC1C387008F' '0000FFC1E787008F'\n",
      " 'BF00808000FFFFFF' '0000808103FFFFFF' '000080C1E7FFFFFF'\n",
      " 'FF81808183000FFF' '018080C1C7009FFF' '000080C3EFC19FFF'\n",
      " 'FF8D8081C30000FF' '858080C1E7819FFF' '008080C1FFC19FFF'\n",
      " 'FF8D80C0C30001FF' 'BF8080C0E7818FFF' '000080C0FFC18FFF'\n",
      " 'FFBF8080C70180BF' 'FF0080C0FFC181FF' '000080C0FFE3C1FF'\n",
      " 'FFFF00809F0100BF' 'FF0080C0FFF3B3FF' '000080C0FFF7F3FF'\n",
      " 'FF9F8080070038FF' 'BF008080BFB1FBFF' '000080C0FFF3FBFF']\n"
     ]
    }
   ],
   "source": [
    "import matplotlib.pyplot as plt\n",
    "import numpy as np\n",
    "from moviepy.editor import *\n",
    "from PIL import Image\n",
    "\n",
    "\n",
    "# SETTINGS\n",
    "dimensionality = 10\n",
    "size = 8\n",
    "\n",
    "\n",
    "clip = VideoFileClip(\"videos/0HH3N4OZUXUB.mp4\")\n",
    "#test.ipython_display()\n",
    "\n",
    "hashes = np.array([])\n",
    "for t in np.linspace(0, clip.duration, dimensionality):\n",
    "    im = Image.fromarray(clip.get_frame(t), \"RGB\")\n",
    "    im = im.resize((size, size), Image.ANTIALIAS)\n",
    "    red, green, blue = im.split()\n",
    "\n",
    "    pixels_r = list(red.getdata())\n",
    "    pixels_g = list(green.getdata())\n",
    "    pixels_b = list(blue.getdata())\n",
    "    \n",
    "    avg_r = sum(pixels_r)/len(pixels_r)\n",
    "    avg_g = sum(pixels_g)/len(pixels_g)\n",
    "    avg_b = sum(pixels_b)/len(pixels_b)\n",
    "    \n",
    "    bits_r = \"\".join(map(lambda pixel_r: '1' if pixel_r < avg_r else '0', pixels_r))\n",
    "    bits_g = \"\".join(map(lambda pixel_g: '1' if pixel_g < avg_g else '0', pixels_g))\n",
    "    bits_b = \"\".join(map(lambda pixel_b: '1' if pixel_b < avg_b else '0', pixels_b))\n",
    "    \n",
    "    hashes = np.append(hashes, (int(bits_r, 2).__format__('016x').upper()))\n",
    "    hashes = np.append(hashes, (int(bits_g, 2).__format__('016x').upper()))\n",
    "    hashes = np.append(hashes, (int(bits_b, 2).__format__('016x').upper()))\n",
    "\n",
    "\n",
    "print(hashes)\n",
    "\n"
   ]
  },
  {
   "cell_type": "code",
   "execution_count": null,
   "metadata": {
    "collapsed": false
   },
   "outputs": [],
   "source": []
  },
  {
   "cell_type": "code",
   "execution_count": null,
   "metadata": {
    "collapsed": true
   },
   "outputs": [],
   "source": []
  }
 ],
 "metadata": {
  "kernelspec": {
   "display_name": "Python [Root]",
   "language": "python",
   "name": "Python [Root]"
  },
  "language_info": {
   "codemirror_mode": {
    "name": "ipython",
    "version": 3
   },
   "file_extension": ".py",
   "mimetype": "text/x-python",
   "name": "python",
   "nbconvert_exporter": "python",
   "pygments_lexer": "ipython3",
   "version": "3.5.2"
  }
 },
 "nbformat": 4,
 "nbformat_minor": 0
}
